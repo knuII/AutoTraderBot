{
  "cells": [
    {
      "cell_type": "code",
      "execution_count": null,
      "metadata": {
        "id": "JG3uXE50uzcl"
      },
      "outputs": [],
      "source": [
        "#pip install lumibot timedelta alpaca-trade-api==3.1.1"
      ]
    },
    {
      "cell_type": "code",
      "execution_count": null,
      "metadata": {
        "id": "z8APbmQPvRxP"
      },
      "outputs": [],
      "source": [
        "#pip install torch torchvision torchaudio transformers"
      ]
    },
    {
      "cell_type": "code",
      "execution_count": 2,
      "metadata": {
        "colab": {
          "base_uri": "https://localhost:8080/"
        },
        "id": "ML3RjF72uiWn",
        "outputId": "0a8e13dc-89da-4869-ca10-2af77f4fe58a"
      },
      "outputs": [
        {
          "name": "stdout",
          "output_type": "stream",
          "text": [
            "Starting backtest for MLTrader...\n",
            "Progress ||   0.58%  [Elapsed: 0:00:03 ETA: 0:10:30]2024-02-07 09:23:30,352: root: INFO: MLTrader : Trading iteration ended at 2024-02-07 09:23:30\n",
            "Progress ||   0.59%  [Elapsed: 0:00:03 ETA: 0:11:06]2024-02-07 09:23:30,371: root: INFO: Current backtesting datetime 2020-01-09 15:55:00-05:00\n",
            "Progress ||   0.59%  [Elapsed: 0:00:03 ETA: 0:11:08]2024-02-07 09:23:30,398: root: INFO: Current backtesting datetime 2020-01-09 16:00:00-05:00\n",
            "\n",
            "Creating trades plot...\n",
            "\n",
            "Creating indicators plot...\n",
            "\n",
            "Creating tearsheet...\n",
            "2024-02-07 09:23:30,568: root: ERROR: Not enough data to create a tearsheet, at least 2 days of data are required. Skipping\n"
          ]
        },
        {
          "data": {
            "text/plain": [
              "{'cagr': 0.0,\n",
              " 'volatility': 0.0,\n",
              " 'sharpe': 0,\n",
              " 'max_drawdown': {'drawdown': 0.0,\n",
              "  'date': Timestamp('2020-01-03 09:30:00-0500', tz='America/New_York')},\n",
              " 'romad': 0,\n",
              " 'total_return': 0.0}"
            ]
          },
          "execution_count": 2,
          "metadata": {},
          "output_type": "execute_result"
        }
      ],
      "source": [
        "from lumibot.brokers import Alpaca\n",
        "from lumibot.backtesting import YahooDataBacktesting\n",
        "from lumibot.strategies.strategy import Strategy\n",
        "from lumibot.traders import Trader\n",
        "from datetime import datetime\n",
        "from alpaca_trade_api import REST\n",
        "from timedelta import Timedelta\n",
        "from finbert_utils import estimate_sentiment\n",
        "\n",
        "API_KEY = \"\"\n",
        "API_SECRET = \"\"\n",
        "BASE_URL = \"https://paper-api.alpaca.markets\"\n",
        "\n",
        "ALPACA_CREDS = {\n",
        "    \"API_KEY\":API_KEY,\n",
        "    \"API_SECRET\": API_SECRET,\n",
        "    \"PAPER\": True\n",
        "}\n",
        "class MLTrader(Strategy):\n",
        "    def initialize(self, symbol:str=\"SPY\", cash_at_risk:float=.5):\n",
        "        self.symbol = symbol\n",
        "        self.sleeptime = \"24H\"\n",
        "        self.last_trade = None\n",
        "        self.cash_at_risk = cash_at_risk\n",
        "        self.api = REST(base_url=BASE_URL, key_id=API_KEY, secret_key=API_SECRET)\n",
        "\n",
        "    def position_sizing(self):\n",
        "        cash = self.get_cash()\n",
        "        last_price = self.get_last_price(self.symbol)\n",
        "        quantity = round(cash * self.cash_at_risk / last_price,0)\n",
        "        return cash, last_price, quantity\n",
        "\n",
        "    def get_dates(self):\n",
        "        today = self.get_datetime()\n",
        "        three_days_prior = today - Timedelta(days=3)\n",
        "        return today.strftime('%Y-%m-%d'), three_days_prior.strftime('%Y-%m-%d')\n",
        "\n",
        "    def get_sentiment(self):\n",
        "        today, three_days_prior = self.get_dates()\n",
        "        news = self.api.get_news(symbol=self.symbol,\n",
        "                                 start=three_days_prior,\n",
        "                                 end=today)\n",
        "        news = [ev.__dict__[\"_raw\"][\"headline\"] for ev in news]\n",
        "        probability, sentiment = estimate_sentiment(news)\n",
        "        return probability, sentiment\n",
        "\n",
        "    def on_trading_iteration(self):\n",
        "        cash, last_price, quantity = self.position_sizing()\n",
        "        probability, sentiment = self.get_sentiment()\n",
        "\n",
        "        if cash > last_price:\n",
        "            if sentiment == \"positive\" and probability > .999:\n",
        "                if self.last_trade == \"sell\":\n",
        "                    self.sell_all()\n",
        "                order = self.create_order(\n",
        "                    self.symbol,\n",
        "                    quantity,\n",
        "                    \"buy\",\n",
        "                    take_profit_price=last_price*1.20,\n",
        "                    stop_loss_price=last_price*.95\n",
        "                )\n",
        "                self.submit_order(order)\n",
        "                self.last_trade = \"buy\"\n",
        "            elif sentiment == \"negative\" and probability > .999:\n",
        "                if self.last_trade == \"buy\":\n",
        "                    self.sell_all()\n",
        "                order = self.create_order(\n",
        "                    self.symbol,\n",
        "                    quantity,\n",
        "                    \"sell\",\n",
        "                    take_profit_price=last_price*.8,\n",
        "                    stop_loss_price=last_price*1.05\n",
        "                )\n",
        "                self.submit_order(order)\n",
        "                self.last_trade = \"sell\"\n",
        "\n",
        "start_date = datetime(2020,1,1)\n",
        "end_date = datetime(2023,12,31)\n",
        "broker = Alpaca(ALPACA_CREDS)\n",
        "strategy = MLTrader(name='mlstrat', broker=broker,\n",
        "                    parameters={\"symbol\":\"SPY\",\n",
        "                                \"cash_at_risk\":.5})\n",
        "strategy.backtest(\n",
        "    YahooDataBacktesting,\n",
        "    start_date,\n",
        "    end_date,\n",
        "    parameters={\"symbol\":\"SPY\", \"cash_at_risk\":.5}\n",
        ")\n",
        "# trader = Trader()\n",
        "# trader.add_strategy(strategy)\n",
        "# trader.run_all()\n"
      ]
    },
    {
      "cell_type": "code",
      "execution_count": null,
      "metadata": {
        "id": "_Bl79JBo4Q0n"
      },
      "outputs": [],
      "source": []
    }
  ],
  "metadata": {
    "accelerator": "GPU",
    "colab": {
      "gpuType": "T4",
      "provenance": []
    },
    "kernelspec": {
      "display_name": "Python 3",
      "name": "python3"
    },
    "language_info": {
      "name": "python"
    }
  },
  "nbformat": 4,
  "nbformat_minor": 0
}
